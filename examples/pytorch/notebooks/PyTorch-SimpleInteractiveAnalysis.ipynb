{
 "cells": [
  {
   "cell_type": "markdown",
   "metadata": {},
   "source": [
    "# Simple Interactive Analysis in Tornasole\n",
    "This notebook will demonstrate the simplest kind of interactive analysis that can be run in smdebug. It will focus on the [vanishing/exploding gradient](https://medium.com/learn-love-ai/the-curious-case-of-the-vanishing-exploding-gradient-bf58ec6822eb) problems on a simple MNIST digit recognition."
   ]
  },
  {
   "cell_type": "markdown",
   "metadata": {},
   "source": [
    "First of all, we will import some basic libraries for deep learning and plotting."
   ]
  },
  {
   "cell_type": "code",
   "execution_count": 1,
   "metadata": {},
   "outputs": [],
   "source": [
    "%load_ext autoreload\n",
    "%autoreload 2"
   ]
  },
  {
   "cell_type": "code",
   "execution_count": 2,
   "metadata": {},
   "outputs": [],
   "source": [
    "import numpy as np\n",
    "import torch\n",
    "import torch.utils.data\n",
    "from torch import nn\n",
    "import matplotlib.pyplot as plt\n",
    "import torch.nn.functional as F\n",
    "import torch.optim as optim\n",
    "from torchvision import datasets, transforms\n",
    "from torch.autograd import Variable"
   ]
  },
  {
   "cell_type": "markdown",
   "metadata": {},
   "source": [
    "Let's copy the Tornasole libraries to this instance, this step has to be executed only once. Please make sure that the AWS account you are using can access the tornasole-wheels-alpha bucket.\n",
    "\n",
    "To do so you'll need the appropriate AWS credentials. There are several ways of doing this:\n",
    "\n",
    "inject temporary credentials\n",
    "if running on EC2, use EC2 roles that can access all S3 buckets\n",
    "(preferred) run this notebook on a SageMaker notebook instance\n",
    "The code below downloads the necessary .whl files and installs them in the current environment. Only run the first time!"
   ]
  },
  {
   "cell_type": "code",
   "execution_count": 3,
   "metadata": {},
   "outputs": [],
   "source": [
    "#WARNING - uncomment this code only if you haven't done this before\n",
    "#!aws s3 sync s3://tornasole-external-preview-use1/sdk/ts-binaries/tornasole_pytorch/py3/latest/ tornasole_pytorch/\n",
    "#!pip install tornasole_pytorch/*\n",
    "\n",
    "# If you run into a version conflict with boto, run the following\n",
    "# !pip uninstall -y botocore boto3 aioboto3 aiobotocore && pip install botocore==1.12.91 boto3==1.9.91 aiobotocore==0.10.2 aioboto3==6.4.1"
   ]
  },
  {
   "cell_type": "markdown",
   "metadata": {},
   "source": [
    "Let's import the Tornasole libraries, all we need is a `SessionHook` to use as a callback, as well as some ancillary data structures."
   ]
  },
  {
   "cell_type": "code",
   "execution_count": 4,
   "metadata": {},
   "outputs": [],
   "source": [
    "from smdebug.pytorch.hook import *\n",
    "from smdebug.core.save_config import SaveConfig\n",
    "\n",
    "import logging\n",
    "logging.getLogger(\"tornasole\").setLevel(logging.ERROR)"
   ]
  },
  {
   "cell_type": "markdown",
   "metadata": {},
   "source": [
    "We can define a simple network - it doesn't really matter what it is.\n",
    "Importantly - we **add the Tornasole Hook**. This hook will be run at every batch and will save selected tensors (in this case, all of them) to the desired directory (in this case, `'./ts_output/{run_id}'`.\n",
    "\n",
    "See the documentation for more details."
   ]
  },
  {
   "cell_type": "code",
   "execution_count": 6,
   "metadata": {},
   "outputs": [],
   "source": [
    "class Net(nn.Module):\n",
    "    def __init__(self):\n",
    "        super(Net, self).__init__()\n",
    "\n",
    "        # self.conv1 = nn.Conv2d(1, 20, 5, 1)\n",
    "        self.add_module('conv1', nn.Conv2d(1, 20, 5, 1))\n",
    "        self.add_module('conv2', nn.Conv2d(20, 50, 5, 1))\n",
    "        self.add_module('fc1', nn.Linear(4*4*50, 500))\n",
    "        self.add_module('fc2', nn.Linear(500, 10))\n",
    "\n",
    "    def forward(self, x):\n",
    "        x = F.relu(self.conv1(x))\n",
    "        x = F.max_pool2d(x, 2, 2)\n",
    "        x = F.relu(self.conv2(x))\n",
    "        x = F.max_pool2d(x, 2, 2)\n",
    "        x = x.view(-1, 4*4*50)\n",
    "        x = F.relu(self.fc1(x))\n",
    "        x = self.fc2(x)\n",
    "        return F.log_softmax(x, dim=1)\n",
    "\n",
    "def create_net(tornasole_save_interval, base_loc, run_id):\n",
    "    model = Net()\n",
    "    # Create and add the hook. Arguments:\n",
    "    # - save data in './{base_loc}/{run_id} - Note: s3 is also supported\n",
    "    # - save every 100 batches\n",
    "    # - save every tensor: inputs/outputs to each layer, as well as gradients\n",
    "    hook = SessionHook(out_dir=base_loc + \"/\" + run_id, save_config=SaveConfig(save_interval=100), save_all=True)\n",
    "    hook.register_hook(model)\n",
    "    return model"
   ]
  },
  {
   "cell_type": "markdown",
   "metadata": {},
   "source": [
    "And we create a simple training script. No Tornasole-specific code here, this is a slightly modified version of the [digit recognition](https://github.com/pytorch/examples/blob/master/mnist/main.py) example on the PyTorch github."
   ]
  },
  {
   "cell_type": "code",
   "execution_count": 7,
   "metadata": {},
   "outputs": [],
   "source": [
    "def transformer(data, label):\n",
    "    data = data.reshape((-1,)).astype(np.float32)/255\n",
    "    return data, label\n",
    "\n",
    "def test(model, device, test_loader):\n",
    "    model.eval()\n",
    "    test_loss = 0\n",
    "    correct = 0\n",
    "    with torch.no_grad():\n",
    "        for data, target in test_loader:\n",
    "            data, target = data.to(device), target.to(device)\n",
    "            output = model(data)\n",
    "            test_loss += F.nll_loss(output, target, reduction='sum').item() # sum up batch loss\n",
    "            pred = output.argmax(dim=1, keepdim=True) # get the index of the max log-probability\n",
    "            correct += pred.eq(target.view_as(pred)).sum().item()\n",
    "\n",
    "    test_loss /= len(test_loader.dataset)\n",
    "\n",
    "    print('\\nTest set: Average loss: {:.4f}, Accuracy: {}/{} ({:.0f}%)\\n'.format(\n",
    "        test_loss, correct, len(test_loader.dataset),\n",
    "        100. * correct / len(test_loader.dataset)))\n",
    "\n",
    "\n",
    "\n",
    "\n",
    "def train(model, epochs, learning_rate, momentum, batch_size, device):\n",
    "    train_loader = torch.utils.data.DataLoader(\n",
    "        datasets.MNIST('./data', train=True, download=True,\n",
    "                       transform=transforms.Compose([\n",
    "                           transforms.ToTensor(),\n",
    "                           transforms.Normalize((0.1307,), (0.3081,))\n",
    "                       ])),\n",
    "        batch_size=batch_size, shuffle=True)\n",
    "\n",
    "    val_data = torch.utils.data.DataLoader(\n",
    "        datasets.MNIST('./data', train=False, download=True,\n",
    "                       transform=transforms.Compose([\n",
    "                           transforms.ToTensor(),\n",
    "                           transforms.Normalize((0.1307,), (0.3081,))\n",
    "                       ])),\n",
    "        batch_size=batch_size, shuffle=False)\n",
    "    \n",
    "    # Collect all parameters from net and its children, then initialize them.\n",
    "    optimizer = optim.SGD(model.parameters(), lr=learning_rate, momentum=momentum)\n",
    "    model = model.to(device)\n",
    "    total_step = len(train_loader)\n",
    "    for epoch in range(epochs):\n",
    "        model.train()\n",
    "        count = 0\n",
    "        for batch_idx, (data, target) in enumerate(train_loader):\n",
    "            data, target = data.to(device), target.to(device)\n",
    "            optimizer.zero_grad()\n",
    "            output = model(Variable(data, requires_grad = True))\n",
    "            loss = F.nll_loss(output, target)\n",
    "            loss.backward()\n",
    "            count += 1\n",
    "\n",
    "            optimizer.step()\n",
    "            if batch_idx % 10 == 0:\n",
    "                print('Train Epoch: {} [{}/{} ({:.0f}%)]\\tLoss: {:.6f}'.format(\n",
    "                    epoch, batch_idx * len(data), len(train_loader.dataset),\n",
    "                    100. * batch_idx / len(train_loader), loss.item()))\n",
    "    \n",
    "#     torch.save(model.state_dict(),\"mnist_params.pt\")\n",
    "\n"
   ]
  },
  {
   "cell_type": "markdown",
   "metadata": {},
   "source": [
    "Clear up from previous runs, we remove old data"
   ]
  },
  {
   "cell_type": "code",
   "execution_count": 8,
   "metadata": {},
   "outputs": [],
   "source": [
    "!rm -rf ./ts_output/"
   ]
  },
  {
   "cell_type": "markdown",
   "metadata": {},
   "source": [
    "At this point we are ready to train. For the purposes of this example, we will name this run as `'good'` because we know it will converge to a good solution. \n",
    "\n",
    "If you have a GPU on your machine, you can change the device line appropriately -- e.g for an NVIDIA GPU, it would be `device = torch.device(\"cuda\")`."
   ]
  },
  {
   "cell_type": "code",
   "execution_count": 9,
   "metadata": {},
   "outputs": [
    {
     "name": "stdout",
     "output_type": "stream",
     "text": [
      "Train Epoch: 0 [0/60000 (0%)]\tLoss: 2.295261\n",
      "Train Epoch: 0 [640/60000 (1%)]\tLoss: 1.748892\n",
      "Train Epoch: 0 [1280/60000 (2%)]\tLoss: 0.695785\n",
      "Train Epoch: 0 [1920/60000 (3%)]\tLoss: 0.629404\n",
      "Train Epoch: 0 [2560/60000 (4%)]\tLoss: 0.355879\n",
      "Train Epoch: 0 [3200/60000 (5%)]\tLoss: 0.461338\n",
      "Train Epoch: 0 [3840/60000 (6%)]\tLoss: 0.465871\n",
      "Train Epoch: 0 [4480/60000 (7%)]\tLoss: 0.286747\n",
      "Train Epoch: 0 [5120/60000 (9%)]\tLoss: 0.262511\n",
      "Train Epoch: 0 [5760/60000 (10%)]\tLoss: 0.276488\n",
      "Train Epoch: 0 [6400/60000 (11%)]\tLoss: 0.234418\n",
      "Train Epoch: 0 [7040/60000 (12%)]\tLoss: 0.523879\n",
      "Train Epoch: 0 [7680/60000 (13%)]\tLoss: 0.582521\n",
      "Train Epoch: 0 [8320/60000 (14%)]\tLoss: 0.257838\n",
      "Train Epoch: 0 [8960/60000 (15%)]\tLoss: 0.162327\n",
      "Train Epoch: 0 [9600/60000 (16%)]\tLoss: 0.202325\n",
      "Train Epoch: 0 [10240/60000 (17%)]\tLoss: 0.204970\n",
      "Train Epoch: 0 [10880/60000 (18%)]\tLoss: 0.517194\n",
      "Train Epoch: 0 [11520/60000 (19%)]\tLoss: 0.138784\n",
      "Train Epoch: 0 [12160/60000 (20%)]\tLoss: 0.174099\n",
      "Train Epoch: 0 [12800/60000 (21%)]\tLoss: 0.358449\n",
      "Train Epoch: 0 [13440/60000 (22%)]\tLoss: 0.234432\n",
      "Train Epoch: 0 [14080/60000 (23%)]\tLoss: 0.239579\n",
      "Train Epoch: 0 [14720/60000 (25%)]\tLoss: 0.143086\n",
      "Train Epoch: 0 [15360/60000 (26%)]\tLoss: 0.464434\n",
      "Train Epoch: 0 [16000/60000 (27%)]\tLoss: 0.213992\n",
      "Train Epoch: 0 [16640/60000 (28%)]\tLoss: 0.198865\n",
      "Train Epoch: 0 [17280/60000 (29%)]\tLoss: 0.426876\n",
      "Train Epoch: 0 [17920/60000 (30%)]\tLoss: 0.236948\n",
      "Train Epoch: 0 [18560/60000 (31%)]\tLoss: 0.019676\n",
      "Train Epoch: 0 [19200/60000 (32%)]\tLoss: 0.365207\n",
      "Train Epoch: 0 [19840/60000 (33%)]\tLoss: 0.177355\n",
      "Train Epoch: 0 [20480/60000 (34%)]\tLoss: 0.101089\n",
      "Train Epoch: 0 [21120/60000 (35%)]\tLoss: 0.217447\n",
      "Train Epoch: 0 [21760/60000 (36%)]\tLoss: 0.122373\n",
      "Train Epoch: 0 [22400/60000 (37%)]\tLoss: 0.083280\n",
      "Train Epoch: 0 [23040/60000 (38%)]\tLoss: 0.044131\n",
      "Train Epoch: 0 [23680/60000 (39%)]\tLoss: 0.164748\n",
      "Train Epoch: 0 [24320/60000 (41%)]\tLoss: 0.217344\n",
      "Train Epoch: 0 [24960/60000 (42%)]\tLoss: 0.168444\n",
      "Train Epoch: 0 [25600/60000 (43%)]\tLoss: 0.094563\n",
      "Train Epoch: 0 [26240/60000 (44%)]\tLoss: 0.160949\n",
      "Train Epoch: 0 [26880/60000 (45%)]\tLoss: 0.190556\n",
      "Train Epoch: 0 [27520/60000 (46%)]\tLoss: 0.049234\n",
      "Train Epoch: 0 [28160/60000 (47%)]\tLoss: 0.106162\n",
      "Train Epoch: 0 [28800/60000 (48%)]\tLoss: 0.104469\n",
      "Train Epoch: 0 [29440/60000 (49%)]\tLoss: 0.053504\n",
      "Train Epoch: 0 [30080/60000 (50%)]\tLoss: 0.110556\n",
      "Train Epoch: 0 [30720/60000 (51%)]\tLoss: 0.322309\n",
      "Train Epoch: 0 [31360/60000 (52%)]\tLoss: 0.086979\n",
      "Train Epoch: 0 [32000/60000 (53%)]\tLoss: 0.134221\n",
      "Train Epoch: 0 [32640/60000 (54%)]\tLoss: 0.201668\n",
      "Train Epoch: 0 [33280/60000 (55%)]\tLoss: 0.062239\n",
      "Train Epoch: 0 [33920/60000 (57%)]\tLoss: 0.107864\n",
      "Train Epoch: 0 [34560/60000 (58%)]\tLoss: 0.082699\n",
      "Train Epoch: 0 [35200/60000 (59%)]\tLoss: 0.187130\n",
      "Train Epoch: 0 [35840/60000 (60%)]\tLoss: 0.436204\n",
      "Train Epoch: 0 [36480/60000 (61%)]\tLoss: 0.216804\n",
      "Train Epoch: 0 [37120/60000 (62%)]\tLoss: 0.295533\n",
      "Train Epoch: 0 [37760/60000 (63%)]\tLoss: 0.151546\n",
      "Train Epoch: 0 [38400/60000 (64%)]\tLoss: 0.109190\n",
      "Train Epoch: 0 [39040/60000 (65%)]\tLoss: 0.089795\n",
      "Train Epoch: 0 [39680/60000 (66%)]\tLoss: 0.111167\n",
      "Train Epoch: 0 [40320/60000 (67%)]\tLoss: 0.148806\n",
      "Train Epoch: 0 [40960/60000 (68%)]\tLoss: 0.086549\n",
      "Train Epoch: 0 [41600/60000 (69%)]\tLoss: 0.166614\n",
      "Train Epoch: 0 [42240/60000 (70%)]\tLoss: 0.076532\n",
      "Train Epoch: 0 [42880/60000 (71%)]\tLoss: 0.207414\n",
      "Train Epoch: 0 [43520/60000 (72%)]\tLoss: 0.057692\n",
      "Train Epoch: 0 [44160/60000 (74%)]\tLoss: 0.135699\n",
      "Train Epoch: 0 [44800/60000 (75%)]\tLoss: 0.070328\n",
      "Train Epoch: 0 [45440/60000 (76%)]\tLoss: 0.287908\n",
      "Train Epoch: 0 [46080/60000 (77%)]\tLoss: 0.181923\n",
      "Train Epoch: 0 [46720/60000 (78%)]\tLoss: 0.109931\n",
      "Train Epoch: 0 [47360/60000 (79%)]\tLoss: 0.082871\n",
      "Train Epoch: 0 [48000/60000 (80%)]\tLoss: 0.336507\n",
      "Train Epoch: 0 [48640/60000 (81%)]\tLoss: 0.132857\n",
      "Train Epoch: 0 [49280/60000 (82%)]\tLoss: 0.124299\n",
      "Train Epoch: 0 [49920/60000 (83%)]\tLoss: 0.064722\n",
      "Train Epoch: 0 [50560/60000 (84%)]\tLoss: 0.102338\n",
      "Train Epoch: 0 [51200/60000 (85%)]\tLoss: 0.081316\n",
      "Train Epoch: 0 [51840/60000 (86%)]\tLoss: 0.023367\n",
      "Train Epoch: 0 [52480/60000 (87%)]\tLoss: 0.009987\n",
      "Train Epoch: 0 [53120/60000 (88%)]\tLoss: 0.021232\n",
      "Train Epoch: 0 [53760/60000 (90%)]\tLoss: 0.234437\n",
      "Train Epoch: 0 [54400/60000 (91%)]\tLoss: 0.076132\n",
      "Train Epoch: 0 [55040/60000 (92%)]\tLoss: 0.099620\n",
      "Train Epoch: 0 [55680/60000 (93%)]\tLoss: 0.153108\n",
      "Train Epoch: 0 [56320/60000 (94%)]\tLoss: 0.008535\n",
      "Train Epoch: 0 [56960/60000 (95%)]\tLoss: 0.069565\n",
      "Train Epoch: 0 [57600/60000 (96%)]\tLoss: 0.345571\n",
      "Train Epoch: 0 [58240/60000 (97%)]\tLoss: 0.502152\n",
      "Train Epoch: 0 [58880/60000 (98%)]\tLoss: 0.153598\n",
      "Train Epoch: 0 [59520/60000 (99%)]\tLoss: 0.009579\n",
      "Train Epoch: 1 [0/60000 (0%)]\tLoss: 0.290723\n",
      "Train Epoch: 1 [640/60000 (1%)]\tLoss: 0.145595\n",
      "Train Epoch: 1 [1280/60000 (2%)]\tLoss: 0.069823\n",
      "Train Epoch: 1 [1920/60000 (3%)]\tLoss: 0.064840\n",
      "Train Epoch: 1 [2560/60000 (4%)]\tLoss: 0.006950\n",
      "Train Epoch: 1 [3200/60000 (5%)]\tLoss: 0.000492\n",
      "Train Epoch: 1 [3840/60000 (6%)]\tLoss: 0.194620\n",
      "Train Epoch: 1 [4480/60000 (7%)]\tLoss: 0.240464\n",
      "Train Epoch: 1 [5120/60000 (9%)]\tLoss: 0.073014\n",
      "Train Epoch: 1 [5760/60000 (10%)]\tLoss: 0.177253\n",
      "Train Epoch: 1 [6400/60000 (11%)]\tLoss: 0.048263\n",
      "Train Epoch: 1 [7040/60000 (12%)]\tLoss: 0.036351\n",
      "Train Epoch: 1 [7680/60000 (13%)]\tLoss: 0.011458\n",
      "Train Epoch: 1 [8320/60000 (14%)]\tLoss: 0.341599\n",
      "Train Epoch: 1 [8960/60000 (15%)]\tLoss: 0.373527\n",
      "Train Epoch: 1 [9600/60000 (16%)]\tLoss: 0.047152\n",
      "Train Epoch: 1 [10240/60000 (17%)]\tLoss: 0.124424\n",
      "Train Epoch: 1 [10880/60000 (18%)]\tLoss: 0.138054\n",
      "Train Epoch: 1 [11520/60000 (19%)]\tLoss: 0.314980\n",
      "Train Epoch: 1 [12160/60000 (20%)]\tLoss: 0.244121\n",
      "Train Epoch: 1 [12800/60000 (21%)]\tLoss: 0.194258\n",
      "Train Epoch: 1 [13440/60000 (22%)]\tLoss: 0.092362\n",
      "Train Epoch: 1 [14080/60000 (23%)]\tLoss: 0.205115\n",
      "Train Epoch: 1 [14720/60000 (25%)]\tLoss: 0.202674\n",
      "Train Epoch: 1 [15360/60000 (26%)]\tLoss: 0.189018\n",
      "Train Epoch: 1 [16000/60000 (27%)]\tLoss: 0.168465\n",
      "Train Epoch: 1 [16640/60000 (28%)]\tLoss: 0.075228\n",
      "Train Epoch: 1 [17280/60000 (29%)]\tLoss: 0.024219\n",
      "Train Epoch: 1 [17920/60000 (30%)]\tLoss: 0.249284\n",
      "Train Epoch: 1 [18560/60000 (31%)]\tLoss: 0.055043\n",
      "Train Epoch: 1 [19200/60000 (32%)]\tLoss: 0.199740\n",
      "Train Epoch: 1 [19840/60000 (33%)]\tLoss: 0.264624\n",
      "Train Epoch: 1 [20480/60000 (34%)]\tLoss: 0.145213\n",
      "Train Epoch: 1 [21120/60000 (35%)]\tLoss: 0.182477\n",
      "Train Epoch: 1 [21760/60000 (36%)]\tLoss: 0.181954\n",
      "Train Epoch: 1 [22400/60000 (37%)]\tLoss: 0.041947\n",
      "Train Epoch: 1 [23040/60000 (38%)]\tLoss: 0.165648\n",
      "Train Epoch: 1 [23680/60000 (39%)]\tLoss: 0.075048\n",
      "Train Epoch: 1 [24320/60000 (41%)]\tLoss: 0.091085\n",
      "Train Epoch: 1 [24960/60000 (42%)]\tLoss: 0.267341\n",
      "Train Epoch: 1 [25600/60000 (43%)]\tLoss: 0.419169\n",
      "Train Epoch: 1 [26240/60000 (44%)]\tLoss: 0.397417\n",
      "Train Epoch: 1 [26880/60000 (45%)]\tLoss: 0.059258\n",
      "Train Epoch: 1 [27520/60000 (46%)]\tLoss: 0.678994\n",
      "Train Epoch: 1 [28160/60000 (47%)]\tLoss: 0.097712\n",
      "Train Epoch: 1 [28800/60000 (48%)]\tLoss: 0.078830\n",
      "Train Epoch: 1 [29440/60000 (49%)]\tLoss: 0.083803\n",
      "Train Epoch: 1 [30080/60000 (50%)]\tLoss: 0.373137\n",
      "Train Epoch: 1 [30720/60000 (51%)]\tLoss: 0.317618\n",
      "Train Epoch: 1 [31360/60000 (52%)]\tLoss: 0.076827\n",
      "Train Epoch: 1 [32000/60000 (53%)]\tLoss: 0.125064\n",
      "Train Epoch: 1 [32640/60000 (54%)]\tLoss: 0.057970\n",
      "Train Epoch: 1 [33280/60000 (55%)]\tLoss: 0.167010\n",
      "Train Epoch: 1 [33920/60000 (57%)]\tLoss: 0.026072\n",
      "Train Epoch: 1 [34560/60000 (58%)]\tLoss: 0.160082\n",
      "Train Epoch: 1 [35200/60000 (59%)]\tLoss: 0.046618\n",
      "Train Epoch: 1 [35840/60000 (60%)]\tLoss: 0.050997\n",
      "Train Epoch: 1 [36480/60000 (61%)]\tLoss: 0.370405\n",
      "Train Epoch: 1 [37120/60000 (62%)]\tLoss: 0.106518\n",
      "Train Epoch: 1 [37760/60000 (63%)]\tLoss: 0.101690\n",
      "Train Epoch: 1 [38400/60000 (64%)]\tLoss: 0.064859\n",
      "Train Epoch: 1 [39040/60000 (65%)]\tLoss: 0.079881\n",
      "Train Epoch: 1 [39680/60000 (66%)]\tLoss: 0.110059\n",
      "Train Epoch: 1 [40320/60000 (67%)]\tLoss: 0.067634\n",
      "Train Epoch: 1 [40960/60000 (68%)]\tLoss: 0.208821\n",
      "Train Epoch: 1 [41600/60000 (69%)]\tLoss: 0.088838\n",
      "Train Epoch: 1 [42240/60000 (70%)]\tLoss: 0.079848\n",
      "Train Epoch: 1 [42880/60000 (71%)]\tLoss: 0.193431\n",
      "Train Epoch: 1 [43520/60000 (72%)]\tLoss: 0.171546\n",
      "Train Epoch: 1 [44160/60000 (74%)]\tLoss: 0.178438\n",
      "Train Epoch: 1 [44800/60000 (75%)]\tLoss: 0.169155\n",
      "Train Epoch: 1 [45440/60000 (76%)]\tLoss: 0.055189\n"
     ]
    },
    {
     "name": "stdout",
     "output_type": "stream",
     "text": [
      "Train Epoch: 1 [46080/60000 (77%)]\tLoss: 0.028144\n",
      "Train Epoch: 1 [46720/60000 (78%)]\tLoss: 0.021224\n",
      "Train Epoch: 1 [47360/60000 (79%)]\tLoss: 0.071242\n",
      "Train Epoch: 1 [48000/60000 (80%)]\tLoss: 0.010806\n",
      "Train Epoch: 1 [48640/60000 (81%)]\tLoss: 0.110852\n",
      "Train Epoch: 1 [49280/60000 (82%)]\tLoss: 0.010513\n",
      "Train Epoch: 1 [49920/60000 (83%)]\tLoss: 0.364887\n",
      "Train Epoch: 1 [50560/60000 (84%)]\tLoss: 0.013409\n",
      "Train Epoch: 1 [51200/60000 (85%)]\tLoss: 0.419877\n",
      "Train Epoch: 1 [51840/60000 (86%)]\tLoss: 0.067204\n",
      "Train Epoch: 1 [52480/60000 (87%)]\tLoss: 0.067301\n",
      "Train Epoch: 1 [53120/60000 (88%)]\tLoss: 0.179633\n",
      "Train Epoch: 1 [53760/60000 (90%)]\tLoss: 0.168005\n",
      "Train Epoch: 1 [54400/60000 (91%)]\tLoss: 0.053020\n",
      "Train Epoch: 1 [55040/60000 (92%)]\tLoss: 0.127693\n",
      "Train Epoch: 1 [55680/60000 (93%)]\tLoss: 0.000790\n",
      "Train Epoch: 1 [56320/60000 (94%)]\tLoss: 0.638172\n",
      "Train Epoch: 1 [56960/60000 (95%)]\tLoss: 0.190752\n",
      "Train Epoch: 1 [57600/60000 (96%)]\tLoss: 0.001666\n",
      "Train Epoch: 1 [58240/60000 (97%)]\tLoss: 0.040600\n",
      "Train Epoch: 1 [58880/60000 (98%)]\tLoss: 0.218874\n",
      "Train Epoch: 1 [59520/60000 (99%)]\tLoss: 0.056282\n",
      "Train Epoch: 2 [0/60000 (0%)]\tLoss: 0.076416\n",
      "Train Epoch: 2 [640/60000 (1%)]\tLoss: 0.112750\n",
      "Train Epoch: 2 [1280/60000 (2%)]\tLoss: 0.171557\n",
      "Train Epoch: 2 [1920/60000 (3%)]\tLoss: 0.014248\n",
      "Train Epoch: 2 [2560/60000 (4%)]\tLoss: 0.062175\n",
      "Train Epoch: 2 [3200/60000 (5%)]\tLoss: 0.182906\n",
      "Train Epoch: 2 [3840/60000 (6%)]\tLoss: 0.135498\n",
      "Train Epoch: 2 [4480/60000 (7%)]\tLoss: 0.123534\n",
      "Train Epoch: 2 [5120/60000 (9%)]\tLoss: 0.122674\n",
      "Train Epoch: 2 [5760/60000 (10%)]\tLoss: 0.111532\n",
      "Train Epoch: 2 [6400/60000 (11%)]\tLoss: 0.099646\n",
      "Train Epoch: 2 [7040/60000 (12%)]\tLoss: 0.051113\n",
      "Train Epoch: 2 [7680/60000 (13%)]\tLoss: 0.227051\n",
      "Train Epoch: 2 [8320/60000 (14%)]\tLoss: 0.138824\n",
      "Train Epoch: 2 [8960/60000 (15%)]\tLoss: 0.088158\n",
      "Train Epoch: 2 [9600/60000 (16%)]\tLoss: 0.103052\n",
      "Train Epoch: 2 [10240/60000 (17%)]\tLoss: 0.369061\n",
      "Train Epoch: 2 [10880/60000 (18%)]\tLoss: 0.165350\n",
      "Train Epoch: 2 [11520/60000 (19%)]\tLoss: 0.142054\n",
      "Train Epoch: 2 [12160/60000 (20%)]\tLoss: 0.034043\n",
      "Train Epoch: 2 [12800/60000 (21%)]\tLoss: 0.093324\n",
      "Train Epoch: 2 [13440/60000 (22%)]\tLoss: 0.129838\n",
      "Train Epoch: 2 [14080/60000 (23%)]\tLoss: 0.023088\n",
      "Train Epoch: 2 [14720/60000 (25%)]\tLoss: 0.110030\n",
      "Train Epoch: 2 [15360/60000 (26%)]\tLoss: 0.355520\n",
      "Train Epoch: 2 [16000/60000 (27%)]\tLoss: 0.072964\n",
      "Train Epoch: 2 [16640/60000 (28%)]\tLoss: 0.002617\n",
      "Train Epoch: 2 [17280/60000 (29%)]\tLoss: 0.415827\n",
      "Train Epoch: 2 [17920/60000 (30%)]\tLoss: 0.061368\n",
      "Train Epoch: 2 [18560/60000 (31%)]\tLoss: 0.059896\n",
      "Train Epoch: 2 [19200/60000 (32%)]\tLoss: 0.006614\n",
      "Train Epoch: 2 [19840/60000 (33%)]\tLoss: 0.072400\n",
      "Train Epoch: 2 [20480/60000 (34%)]\tLoss: 0.084101\n",
      "Train Epoch: 2 [21120/60000 (35%)]\tLoss: 0.060527\n",
      "Train Epoch: 2 [21760/60000 (36%)]\tLoss: 0.245168\n",
      "Train Epoch: 2 [22400/60000 (37%)]\tLoss: 0.104240\n",
      "Train Epoch: 2 [23040/60000 (38%)]\tLoss: 0.039879\n",
      "Train Epoch: 2 [23680/60000 (39%)]\tLoss: 0.127886\n",
      "Train Epoch: 2 [24320/60000 (41%)]\tLoss: 0.151734\n",
      "Train Epoch: 2 [24960/60000 (42%)]\tLoss: 0.156671\n",
      "Train Epoch: 2 [25600/60000 (43%)]\tLoss: 0.109427\n",
      "Train Epoch: 2 [26240/60000 (44%)]\tLoss: 0.080561\n",
      "Train Epoch: 2 [26880/60000 (45%)]\tLoss: 0.092277\n",
      "Train Epoch: 2 [27520/60000 (46%)]\tLoss: 0.210802\n",
      "Train Epoch: 2 [28160/60000 (47%)]\tLoss: 0.057986\n",
      "Train Epoch: 2 [28800/60000 (48%)]\tLoss: 0.124804\n",
      "Train Epoch: 2 [29440/60000 (49%)]\tLoss: 0.119243\n",
      "Train Epoch: 2 [30080/60000 (50%)]\tLoss: 0.279113\n",
      "Train Epoch: 2 [30720/60000 (51%)]\tLoss: 0.214091\n",
      "Train Epoch: 2 [31360/60000 (52%)]\tLoss: 0.106701\n",
      "Train Epoch: 2 [32000/60000 (53%)]\tLoss: 0.547162\n",
      "Train Epoch: 2 [32640/60000 (54%)]\tLoss: 0.377766\n",
      "Train Epoch: 2 [33280/60000 (55%)]\tLoss: 0.128663\n",
      "Train Epoch: 2 [33920/60000 (57%)]\tLoss: 0.078428\n",
      "Train Epoch: 2 [34560/60000 (58%)]\tLoss: 0.096952\n",
      "Train Epoch: 2 [35200/60000 (59%)]\tLoss: 0.047050\n",
      "Train Epoch: 2 [35840/60000 (60%)]\tLoss: 0.106311\n",
      "Train Epoch: 2 [36480/60000 (61%)]\tLoss: 0.092369\n",
      "Train Epoch: 2 [37120/60000 (62%)]\tLoss: 0.038745\n",
      "Train Epoch: 2 [37760/60000 (63%)]\tLoss: 0.474230\n",
      "Train Epoch: 2 [38400/60000 (64%)]\tLoss: 0.213040\n",
      "Train Epoch: 2 [39040/60000 (65%)]\tLoss: 0.665591\n",
      "Train Epoch: 2 [39680/60000 (66%)]\tLoss: 0.068594\n",
      "Train Epoch: 2 [40320/60000 (67%)]\tLoss: 0.036250\n",
      "Train Epoch: 2 [40960/60000 (68%)]\tLoss: 0.144957\n",
      "Train Epoch: 2 [41600/60000 (69%)]\tLoss: 0.355639\n",
      "Train Epoch: 2 [42240/60000 (70%)]\tLoss: 0.198450\n",
      "Train Epoch: 2 [42880/60000 (71%)]\tLoss: 0.221584\n",
      "Train Epoch: 2 [43520/60000 (72%)]\tLoss: 0.043087\n",
      "Train Epoch: 2 [44160/60000 (74%)]\tLoss: 0.053449\n",
      "Train Epoch: 2 [44800/60000 (75%)]\tLoss: 0.244004\n",
      "Train Epoch: 2 [45440/60000 (76%)]\tLoss: 0.051597\n",
      "Train Epoch: 2 [46080/60000 (77%)]\tLoss: 0.018794\n",
      "Train Epoch: 2 [46720/60000 (78%)]\tLoss: 0.047302\n",
      "Train Epoch: 2 [47360/60000 (79%)]\tLoss: 0.233751\n",
      "Train Epoch: 2 [48000/60000 (80%)]\tLoss: 0.523653\n",
      "Train Epoch: 2 [48640/60000 (81%)]\tLoss: 0.011048\n",
      "Train Epoch: 2 [49280/60000 (82%)]\tLoss: 0.185908\n",
      "Train Epoch: 2 [49920/60000 (83%)]\tLoss: 0.085652\n",
      "Train Epoch: 2 [50560/60000 (84%)]\tLoss: 0.065321\n",
      "Train Epoch: 2 [51200/60000 (85%)]\tLoss: 0.174393\n",
      "Train Epoch: 2 [51840/60000 (86%)]\tLoss: 0.031607\n",
      "Train Epoch: 2 [52480/60000 (87%)]\tLoss: 0.174475\n",
      "Train Epoch: 2 [53120/60000 (88%)]\tLoss: 0.217395\n",
      "Train Epoch: 2 [53760/60000 (90%)]\tLoss: 0.061645\n",
      "Train Epoch: 2 [54400/60000 (91%)]\tLoss: 0.141715\n",
      "Train Epoch: 2 [55040/60000 (92%)]\tLoss: 0.198288\n",
      "Train Epoch: 2 [55680/60000 (93%)]\tLoss: 0.254158\n",
      "Train Epoch: 2 [56320/60000 (94%)]\tLoss: 0.110041\n",
      "Train Epoch: 2 [56960/60000 (95%)]\tLoss: 0.270937\n",
      "Train Epoch: 2 [57600/60000 (96%)]\tLoss: 0.070328\n",
      "Train Epoch: 2 [58240/60000 (97%)]\tLoss: 0.024610\n",
      "Train Epoch: 2 [58880/60000 (98%)]\tLoss: 0.236358\n",
      "Train Epoch: 2 [59520/60000 (99%)]\tLoss: 0.117915\n",
      "Train Epoch: 3 [0/60000 (0%)]\tLoss: 0.146749\n",
      "Train Epoch: 3 [640/60000 (1%)]\tLoss: 0.039942\n",
      "Train Epoch: 3 [1280/60000 (2%)]\tLoss: 0.005945\n",
      "Train Epoch: 3 [1920/60000 (3%)]\tLoss: 0.118340\n",
      "Train Epoch: 3 [2560/60000 (4%)]\tLoss: 0.212263\n",
      "Train Epoch: 3 [3200/60000 (5%)]\tLoss: 0.108361\n",
      "Train Epoch: 3 [3840/60000 (6%)]\tLoss: 0.123859\n",
      "Train Epoch: 3 [4480/60000 (7%)]\tLoss: 0.151609\n",
      "Train Epoch: 3 [5120/60000 (9%)]\tLoss: 0.190431\n",
      "Train Epoch: 3 [5760/60000 (10%)]\tLoss: 0.044887\n",
      "Train Epoch: 3 [6400/60000 (11%)]\tLoss: 0.118531\n",
      "Train Epoch: 3 [7040/60000 (12%)]\tLoss: 0.175035\n",
      "Train Epoch: 3 [7680/60000 (13%)]\tLoss: 0.116727\n",
      "Train Epoch: 3 [8320/60000 (14%)]\tLoss: 0.233833\n",
      "Train Epoch: 3 [8960/60000 (15%)]\tLoss: 0.088643\n",
      "Train Epoch: 3 [9600/60000 (16%)]\tLoss: 0.384525\n",
      "Train Epoch: 3 [10240/60000 (17%)]\tLoss: 0.043991\n",
      "Train Epoch: 3 [10880/60000 (18%)]\tLoss: 0.851141\n",
      "Train Epoch: 3 [11520/60000 (19%)]\tLoss: 0.094810\n",
      "Train Epoch: 3 [12160/60000 (20%)]\tLoss: 0.083756\n",
      "Train Epoch: 3 [12800/60000 (21%)]\tLoss: 0.222417\n",
      "Train Epoch: 3 [13440/60000 (22%)]\tLoss: 0.448306\n",
      "Train Epoch: 3 [14080/60000 (23%)]\tLoss: 0.037722\n",
      "Train Epoch: 3 [14720/60000 (25%)]\tLoss: 0.318071\n",
      "Train Epoch: 3 [15360/60000 (26%)]\tLoss: 0.241556\n",
      "Train Epoch: 3 [16000/60000 (27%)]\tLoss: 0.034820\n",
      "Train Epoch: 3 [16640/60000 (28%)]\tLoss: 0.154392\n",
      "Train Epoch: 3 [17280/60000 (29%)]\tLoss: 0.103088\n",
      "Train Epoch: 3 [17920/60000 (30%)]\tLoss: 0.309260\n",
      "Train Epoch: 3 [18560/60000 (31%)]\tLoss: 0.129015\n",
      "Train Epoch: 3 [19200/60000 (32%)]\tLoss: 0.081739\n",
      "Train Epoch: 3 [19840/60000 (33%)]\tLoss: 0.194573\n",
      "Train Epoch: 3 [20480/60000 (34%)]\tLoss: 0.100797\n",
      "Train Epoch: 3 [21120/60000 (35%)]\tLoss: 0.130121\n",
      "Train Epoch: 3 [21760/60000 (36%)]\tLoss: 0.148123\n",
      "Train Epoch: 3 [22400/60000 (37%)]\tLoss: 0.107668\n",
      "Train Epoch: 3 [23040/60000 (38%)]\tLoss: 0.118747\n",
      "Train Epoch: 3 [23680/60000 (39%)]\tLoss: 0.145568\n",
      "Train Epoch: 3 [24320/60000 (41%)]\tLoss: 0.228613\n",
      "Train Epoch: 3 [24960/60000 (42%)]\tLoss: 0.125414\n",
      "Train Epoch: 3 [25600/60000 (43%)]\tLoss: 0.083142\n",
      "Train Epoch: 3 [26240/60000 (44%)]\tLoss: 0.394818\n",
      "Train Epoch: 3 [26880/60000 (45%)]\tLoss: 0.045244\n",
      "Train Epoch: 3 [27520/60000 (46%)]\tLoss: 0.005072\n",
      "Train Epoch: 3 [28160/60000 (47%)]\tLoss: 0.115797\n",
      "Train Epoch: 3 [28800/60000 (48%)]\tLoss: 0.095257\n",
      "Train Epoch: 3 [29440/60000 (49%)]\tLoss: 0.005111\n",
      "Train Epoch: 3 [30080/60000 (50%)]\tLoss: 0.110229\n",
      "Train Epoch: 3 [30720/60000 (51%)]\tLoss: 0.082010\n",
      "Train Epoch: 3 [31360/60000 (52%)]\tLoss: 0.055340\n"
     ]
    },
    {
     "name": "stdout",
     "output_type": "stream",
     "text": [
      "Train Epoch: 3 [32000/60000 (53%)]\tLoss: 0.195543\n",
      "Train Epoch: 3 [32640/60000 (54%)]\tLoss: 0.150267\n",
      "Train Epoch: 3 [33280/60000 (55%)]\tLoss: 0.177324\n",
      "Train Epoch: 3 [33920/60000 (57%)]\tLoss: 0.038098\n",
      "Train Epoch: 3 [34560/60000 (58%)]\tLoss: 0.036462\n",
      "Train Epoch: 3 [35200/60000 (59%)]\tLoss: 0.076419\n",
      "Train Epoch: 3 [35840/60000 (60%)]\tLoss: 0.094155\n",
      "Train Epoch: 3 [36480/60000 (61%)]\tLoss: 0.276453\n",
      "Train Epoch: 3 [37120/60000 (62%)]\tLoss: 0.013989\n",
      "Train Epoch: 3 [37760/60000 (63%)]\tLoss: 0.033511\n",
      "Train Epoch: 3 [38400/60000 (64%)]\tLoss: 0.053062\n",
      "Train Epoch: 3 [39040/60000 (65%)]\tLoss: 0.002972\n",
      "Train Epoch: 3 [39680/60000 (66%)]\tLoss: 0.044364\n",
      "Train Epoch: 3 [40320/60000 (67%)]\tLoss: 0.201063\n",
      "Train Epoch: 3 [40960/60000 (68%)]\tLoss: 0.239112\n",
      "Train Epoch: 3 [41600/60000 (69%)]\tLoss: 0.301890\n",
      "Train Epoch: 3 [42240/60000 (70%)]\tLoss: 0.209023\n",
      "Train Epoch: 3 [42880/60000 (71%)]\tLoss: 0.340197\n",
      "Train Epoch: 3 [43520/60000 (72%)]\tLoss: 0.051514\n",
      "Train Epoch: 3 [44160/60000 (74%)]\tLoss: 0.163148\n",
      "Train Epoch: 3 [44800/60000 (75%)]\tLoss: 0.035544\n",
      "Train Epoch: 3 [45440/60000 (76%)]\tLoss: 0.105758\n",
      "Train Epoch: 3 [46080/60000 (77%)]\tLoss: 0.091835\n",
      "Train Epoch: 3 [46720/60000 (78%)]\tLoss: 0.218505\n",
      "Train Epoch: 3 [47360/60000 (79%)]\tLoss: 0.212545\n",
      "Train Epoch: 3 [48000/60000 (80%)]\tLoss: 0.001972\n",
      "Train Epoch: 3 [48640/60000 (81%)]\tLoss: 0.165325\n",
      "Train Epoch: 3 [49280/60000 (82%)]\tLoss: 0.099900\n",
      "Train Epoch: 3 [49920/60000 (83%)]\tLoss: 0.475469\n",
      "Train Epoch: 3 [50560/60000 (84%)]\tLoss: 0.102674\n",
      "Train Epoch: 3 [51200/60000 (85%)]\tLoss: 0.067554\n",
      "Train Epoch: 3 [51840/60000 (86%)]\tLoss: 0.376874\n",
      "Train Epoch: 3 [52480/60000 (87%)]\tLoss: 0.133132\n",
      "Train Epoch: 3 [53120/60000 (88%)]\tLoss: 0.042010\n",
      "Train Epoch: 3 [53760/60000 (90%)]\tLoss: 0.008966\n",
      "Train Epoch: 3 [54400/60000 (91%)]\tLoss: 0.073707\n",
      "Train Epoch: 3 [55040/60000 (92%)]\tLoss: 0.128305\n",
      "Train Epoch: 3 [55680/60000 (93%)]\tLoss: 0.039086\n",
      "Train Epoch: 3 [56320/60000 (94%)]\tLoss: 0.176628\n",
      "Train Epoch: 3 [56960/60000 (95%)]\tLoss: 0.025344\n",
      "Train Epoch: 3 [57600/60000 (96%)]\tLoss: 0.137705\n",
      "Train Epoch: 3 [58240/60000 (97%)]\tLoss: 0.035565\n",
      "Train Epoch: 3 [58880/60000 (98%)]\tLoss: 0.165229\n",
      "Train Epoch: 3 [59520/60000 (99%)]\tLoss: 0.070512\n"
     ]
    }
   ],
   "source": [
    "model = create_net(tornasole_save_interval=100, base_loc='./ts_output', run_id='good')\n",
    "train(model=model, epochs=4, learning_rate=0.1, momentum=0.9, batch_size=64, device = torch.device(\"cpu\"))"
   ]
  },
  {
   "cell_type": "markdown",
   "metadata": {},
   "source": [
    "## Data Analysis\n",
    "Now that we have trained the system we can analyze the data. Notice that this notebook focuses on after-the-fact analysis. Tornasole also provides a collection of tools to do automatic analysis as the training run is progressing, which will be covered in a different notebook."
   ]
  },
  {
   "cell_type": "markdown",
   "metadata": {},
   "source": [
    "We import a basic analysis library, which defines a concept of `Trial`. A `Trial` is a single training run, which is depositing values in a local directory (`LocalTrial`) or S3 (`S3Trial`). In this case we are using a `LocalTrial` - if you wish, you can change the output from `./ts_output` to `s3://mybucket/myprefix` and use `S3Trial` instead of `LocalTrial`."
   ]
  },
  {
   "cell_type": "code",
   "execution_count": 10,
   "metadata": {},
   "outputs": [],
   "source": [
    "from smdebug.trials import LocalTrial"
   ]
  },
  {
   "cell_type": "markdown",
   "metadata": {},
   "source": [
    "And we read the data"
   ]
  },
  {
   "cell_type": "code",
   "execution_count": 11,
   "metadata": {},
   "outputs": [],
   "source": [
    "good_trial = LocalTrial('myrun', './ts_output/good')"
   ]
  },
  {
   "cell_type": "markdown",
   "metadata": {},
   "source": [
    "We can list all the tensors we know something about. Each one of these names is the name of a tensor - the name is a combination of the layer name (which, in these cases, is auto-assigned by PyTorch) and whether it's an input/output/weight/bias/gradient."
   ]
  },
  {
   "cell_type": "code",
   "execution_count": 12,
   "metadata": {},
   "outputs": [
    {
     "data": {
      "text/plain": [
       "['Net_conv1.weight',\n",
       " 'Net_conv1.bias',\n",
       " 'Net_conv2.weight',\n",
       " 'Net_conv2.bias',\n",
       " 'Net_fc1.weight',\n",
       " 'Net_fc1.bias',\n",
       " 'Net_fc2.weight',\n",
       " 'Net_fc2.bias',\n",
       " 'conv1_input_0',\n",
       " 'conv1_output0',\n",
       " 'conv2_input_0',\n",
       " 'conv2_output0',\n",
       " 'fc1_input_0',\n",
       " 'fc1_output0',\n",
       " 'fc2_input_0',\n",
       " 'fc2_output0',\n",
       " 'Net_input_0',\n",
       " 'Net_output0',\n",
       " 'gradient/Net_fc2.bias',\n",
       " 'gradient/Net_fc2.weight',\n",
       " 'gradient/Net_fc1.bias',\n",
       " 'gradient/Net_fc1.weight',\n",
       " 'gradient/Net_conv2.weight',\n",
       " 'gradient/Net_conv2.bias',\n",
       " 'gradient/Net_conv1.weight',\n",
       " 'gradient/Net_conv1.bias']"
      ]
     },
     "execution_count": 12,
     "metadata": {},
     "output_type": "execute_result"
    }
   ],
   "source": [
    "good_trial.tensornames()"
   ]
  },
  {
   "cell_type": "markdown",
   "metadata": {},
   "source": [
    "For each tensor we can ask for which steps we have data - in this case, every 100 steps"
   ]
  },
  {
   "cell_type": "code",
   "execution_count": 13,
   "metadata": {},
   "outputs": [
    {
     "data": {
      "text/plain": [
       "[0,\n",
       " 100,\n",
       " 200,\n",
       " 300,\n",
       " 400,\n",
       " 500,\n",
       " 600,\n",
       " 700,\n",
       " 800,\n",
       " 900,\n",
       " 1000,\n",
       " 1100,\n",
       " 1200,\n",
       " 1300,\n",
       " 1400,\n",
       " 1500,\n",
       " 1600,\n",
       " 1700,\n",
       " 1800,\n",
       " 1900,\n",
       " 2000,\n",
       " 2100,\n",
       " 2200,\n",
       " 2300,\n",
       " 2400,\n",
       " 2500,\n",
       " 2600,\n",
       " 2700,\n",
       " 2800,\n",
       " 2900,\n",
       " 3000,\n",
       " 3100,\n",
       " 3200,\n",
       " 3300,\n",
       " 3400,\n",
       " 3500,\n",
       " 3600,\n",
       " 3700]"
      ]
     },
     "execution_count": 13,
     "metadata": {},
     "output_type": "execute_result"
    }
   ],
   "source": [
    "good_trial.tensor('gradient/Net_fc1.weight').steps()"
   ]
  },
  {
   "cell_type": "markdown",
   "metadata": {},
   "source": [
    "We can obtain each tensor at each step as a `numpy` array"
   ]
  },
  {
   "cell_type": "code",
   "execution_count": 14,
   "metadata": {},
   "outputs": [
    {
     "data": {
      "text/plain": [
       "numpy.ndarray"
      ]
     },
     "execution_count": 14,
     "metadata": {},
     "output_type": "execute_result"
    }
   ],
   "source": [
    "type(good_trial.tensor('gradient/Net_fc1.weight').value(300))"
   ]
  },
  {
   "cell_type": "markdown",
   "metadata": {},
   "source": [
    "## Gradient Analysis"
   ]
  },
  {
   "cell_type": "markdown",
   "metadata": {},
   "source": [
    "We can also create a simple function that prints the `np.mean` of the `np.abs` of each gradient. We expect each gradient to get smaller over time, as the system converges to a good solution. Now, remember that this is an interactive analysis - we are showing these tensors to give an idea of the data. \n",
    "\n",
    "Later on in this notebook we will run an automated analysis."
   ]
  },
  {
   "cell_type": "code",
   "execution_count": 15,
   "metadata": {},
   "outputs": [],
   "source": [
    "# Define a function that, for the given tensor name, walks through all \n",
    "# the batches for which we have data and computes mean(abs(tensor)).\n",
    "# Returns the set of steps and the values\n",
    "\n",
    "def get_data(trial, tname):\n",
    "    tensor = trial.tensor(tname)\n",
    "    steps = tensor.steps()\n",
    "    vals = []\n",
    "    for s in steps:\n",
    "        val = tensor.value(s)\n",
    "        val = np.mean(np.abs(val))\n",
    "        vals.append(val)\n",
    "    return steps, vals"
   ]
  },
  {
   "cell_type": "code",
   "execution_count": 16,
   "metadata": {},
   "outputs": [],
   "source": [
    "def plot_gradients( lt ):\n",
    "    for tname in lt.tensornames():\n",
    "        if not 'gradient' in tname: continue\n",
    "        steps, data = get_data(lt, tname)\n",
    "        plt.plot( steps, data, label=tname)\n",
    "    plt.legend()\n",
    "    plt.show()"
   ]
  },
  {
   "cell_type": "markdown",
   "metadata": {},
   "source": [
    "We can plot these gradiends. Notice how they are (mostly!) decreasing. We should investigate the spikes!"
   ]
  },
  {
   "cell_type": "code",
   "execution_count": 17,
   "metadata": {},
   "outputs": [
    {
     "data": {
      "image/png": "[encoded data removed]",
      "text/plain": [
       "<Figure size 432x288 with 1 Axes>"
      ]
     },
     "metadata": {
      "needs_background": "light"
     },
     "output_type": "display_data"
    }
   ],
   "source": [
    "plot_gradients(good_trial)"
   ]
  },
  {
   "cell_type": "markdown",
   "metadata": {},
   "source": [
    "We can also print inputs and outputs from the model. For instance, let's print the 42nd sample of the 2700th batch, as seen by the network. \n",
    "\n",
    "Notice that we have "
   ]
  },
  {
   "cell_type": "code",
   "execution_count": 18,
   "metadata": {},
   "outputs": [
    {
     "data": {
      "image/png": "[encoded data removed]",
      "text/plain": [
       "<Figure size 432x288 with 1 Axes>"
      ]
     },
     "metadata": {
      "needs_background": "light"
     },
     "output_type": "display_data"
    }
   ],
   "source": [
    "# The raw tensor\n",
    "raw_t = good_trial.tensor('Net_input_0').value(2700)[42]\n",
    "# We have to undo the transformations in 'transformer' above. First of all, multiply by 255\n",
    "raw_t = raw_t * 255\n",
    "# Then reshape from a 784-long vector to a 28x28 square.\n",
    "input_image = raw_t.reshape(28,28)\n",
    "plt.imshow(input_image, cmap=plt.get_cmap('gray'))\n",
    "plt.show()"
   ]
  },
  {
   "cell_type": "markdown",
   "metadata": {},
   "source": [
    "We can also plot the relative values emitted by the network. Notice that the last layer is of type `nn.Linear(500, 10)`: it will emit 10 separate confidences, one for each 0-9 digit. The one with the highest output is the predicted value.\n",
    "\n",
    "We can capture and plot the network output for the same sample."
   ]
  },
  {
   "cell_type": "code",
   "execution_count": 19,
   "metadata": {},
   "outputs": [
    {
     "data": {
      "image/png": "[encoded data removed]",
      "text/plain": [
       "<Figure size 432x288 with 1 Axes>"
      ]
     },
     "metadata": {
      "needs_background": "light"
     },
     "output_type": "display_data"
    },
    {
     "name": "stdout",
     "output_type": "stream",
     "text": [
      "The network predicted the value: 1\n"
     ]
    }
   ],
   "source": [
    "plt.plot(good_trial.tensor('Net_output0').value(2700)[42], 'bo')\n",
    "plt.show()\n",
    "print('The network predicted the value: {}'.format(np.argmax(good_trial.tensor('Net_output0').value(2700)[42])))"
   ]
  },
  {
   "cell_type": "markdown",
   "metadata": {},
   "source": [
    "## Vanishing Gradient"
   ]
  },
  {
   "cell_type": "markdown",
   "metadata": {},
   "source": [
    "We have now worked through some of the basics. Let's pretend we are debugging a real problem: the Vanishing Gradient. When training a network, if the `learning_rate` is too high we will end up with a Vanishing Gradient. Let's set `learning_rate=1`.\n",
    "\n",
    "Notice how the accuracy remains at around ~10% - no better than random."
   ]
  },
  {
   "cell_type": "code",
   "execution_count": 20,
   "metadata": {},
   "outputs": [
    {
     "name": "stdout",
     "output_type": "stream",
     "text": [
      "Train Epoch: 0 [0/60000 (0%)]\tLoss: 2.330259\n",
      "Train Epoch: 0 [640/60000 (1%)]\tLoss: 2.459480\n",
      "Train Epoch: 0 [1280/60000 (2%)]\tLoss: 2.342018\n",
      "Train Epoch: 0 [1920/60000 (3%)]\tLoss: 2.370183\n",
      "Train Epoch: 0 [2560/60000 (4%)]\tLoss: 2.306495\n",
      "Train Epoch: 0 [3200/60000 (5%)]\tLoss: 2.287591\n",
      "Train Epoch: 0 [3840/60000 (6%)]\tLoss: 2.284006\n",
      "Train Epoch: 0 [4480/60000 (7%)]\tLoss: 2.360036\n",
      "Train Epoch: 0 [5120/60000 (9%)]\tLoss: 2.298006\n",
      "Train Epoch: 0 [5760/60000 (10%)]\tLoss: 2.341758\n",
      "Train Epoch: 0 [6400/60000 (11%)]\tLoss: 2.304522\n",
      "Train Epoch: 0 [7040/60000 (12%)]\tLoss: 2.286000\n",
      "Train Epoch: 0 [7680/60000 (13%)]\tLoss: 2.293531\n",
      "Train Epoch: 0 [8320/60000 (14%)]\tLoss: 2.358820\n",
      "Train Epoch: 0 [8960/60000 (15%)]\tLoss: 2.307475\n",
      "Train Epoch: 0 [9600/60000 (16%)]\tLoss: 2.310409\n",
      "Train Epoch: 0 [10240/60000 (17%)]\tLoss: 2.324923\n",
      "Train Epoch: 0 [10880/60000 (18%)]\tLoss: 2.341324\n",
      "Train Epoch: 0 [11520/60000 (19%)]\tLoss: 2.346567\n",
      "Train Epoch: 0 [12160/60000 (20%)]\tLoss: 2.398468\n",
      "Train Epoch: 0 [12800/60000 (21%)]\tLoss: 2.327744\n",
      "Train Epoch: 0 [13440/60000 (22%)]\tLoss: 2.355408\n",
      "Train Epoch: 0 [14080/60000 (23%)]\tLoss: 2.342527\n",
      "Train Epoch: 0 [14720/60000 (25%)]\tLoss: 2.381174\n",
      "Train Epoch: 0 [15360/60000 (26%)]\tLoss: 2.327620\n",
      "Train Epoch: 0 [16000/60000 (27%)]\tLoss: 2.312094\n",
      "Train Epoch: 0 [16640/60000 (28%)]\tLoss: 2.349320\n",
      "Train Epoch: 0 [17280/60000 (29%)]\tLoss: 2.325104\n",
      "Train Epoch: 0 [17920/60000 (30%)]\tLoss: 2.410883\n",
      "Train Epoch: 0 [18560/60000 (31%)]\tLoss: 2.312054\n",
      "Train Epoch: 0 [19200/60000 (32%)]\tLoss: 2.328432\n",
      "Train Epoch: 0 [19840/60000 (33%)]\tLoss: 2.326895\n",
      "Train Epoch: 0 [20480/60000 (34%)]\tLoss: 2.294943\n",
      "Train Epoch: 0 [21120/60000 (35%)]\tLoss: 2.310558\n",
      "Train Epoch: 0 [21760/60000 (36%)]\tLoss: 2.353846\n",
      "Train Epoch: 0 [22400/60000 (37%)]\tLoss: 2.319908\n",
      "Train Epoch: 0 [23040/60000 (38%)]\tLoss: 2.286135\n",
      "Train Epoch: 0 [23680/60000 (39%)]\tLoss: 2.337246\n",
      "Train Epoch: 0 [24320/60000 (41%)]\tLoss: 2.360455\n",
      "Train Epoch: 0 [24960/60000 (42%)]\tLoss: 2.375340\n",
      "Train Epoch: 0 [25600/60000 (43%)]\tLoss: 2.329563\n",
      "Train Epoch: 0 [26240/60000 (44%)]\tLoss: 2.395788\n",
      "Train Epoch: 0 [26880/60000 (45%)]\tLoss: 2.309679\n",
      "Train Epoch: 0 [27520/60000 (46%)]\tLoss: 2.316720\n",
      "Train Epoch: 0 [28160/60000 (47%)]\tLoss: 2.346542\n",
      "Train Epoch: 0 [28800/60000 (48%)]\tLoss: 2.307389\n",
      "Train Epoch: 0 [29440/60000 (49%)]\tLoss: 2.317679\n",
      "Train Epoch: 0 [30080/60000 (50%)]\tLoss: 2.395548\n",
      "Train Epoch: 0 [30720/60000 (51%)]\tLoss: 2.491510\n",
      "Train Epoch: 0 [31360/60000 (52%)]\tLoss: 2.282305\n",
      "Train Epoch: 0 [32000/60000 (53%)]\tLoss: 2.254564\n",
      "Train Epoch: 0 [32640/60000 (54%)]\tLoss: 2.333660\n",
      "Train Epoch: 0 [33280/60000 (55%)]\tLoss: 2.362551\n",
      "Train Epoch: 0 [33920/60000 (57%)]\tLoss: 2.384102\n",
      "Train Epoch: 0 [34560/60000 (58%)]\tLoss: 2.326107\n",
      "Train Epoch: 0 [35200/60000 (59%)]\tLoss: 2.320798\n",
      "Train Epoch: 0 [35840/60000 (60%)]\tLoss: 2.464493\n",
      "Train Epoch: 0 [36480/60000 (61%)]\tLoss: 2.331449\n",
      "Train Epoch: 0 [37120/60000 (62%)]\tLoss: 2.415666\n",
      "Train Epoch: 0 [37760/60000 (63%)]\tLoss: 2.473129\n",
      "Train Epoch: 0 [38400/60000 (64%)]\tLoss: 2.397358\n",
      "Train Epoch: 0 [39040/60000 (65%)]\tLoss: 2.407380\n",
      "Train Epoch: 0 [39680/60000 (66%)]\tLoss: 2.462022\n",
      "Train Epoch: 0 [40320/60000 (67%)]\tLoss: 2.399495\n",
      "Train Epoch: 0 [40960/60000 (68%)]\tLoss: 2.306419\n",
      "Train Epoch: 0 [41600/60000 (69%)]\tLoss: 2.341526\n",
      "Train Epoch: 0 [42240/60000 (70%)]\tLoss: 2.294206\n",
      "Train Epoch: 0 [42880/60000 (71%)]\tLoss: 2.290251\n",
      "Train Epoch: 0 [43520/60000 (72%)]\tLoss: 2.317634\n",
      "Train Epoch: 0 [44160/60000 (74%)]\tLoss: 2.358360\n",
      "Train Epoch: 0 [44800/60000 (75%)]\tLoss: 2.332942\n",
      "Train Epoch: 0 [45440/60000 (76%)]\tLoss: 2.312563\n",
      "Train Epoch: 0 [46080/60000 (77%)]\tLoss: 2.328177\n",
      "Train Epoch: 0 [46720/60000 (78%)]\tLoss: 2.319674\n",
      "Train Epoch: 0 [47360/60000 (79%)]\tLoss: 2.349114\n",
      "Train Epoch: 0 [48000/60000 (80%)]\tLoss: 2.294027\n",
      "Train Epoch: 0 [48640/60000 (81%)]\tLoss: 2.344978\n",
      "Train Epoch: 0 [49280/60000 (82%)]\tLoss: 2.322978\n",
      "Train Epoch: 0 [49920/60000 (83%)]\tLoss: 2.308064\n",
      "Train Epoch: 0 [50560/60000 (84%)]\tLoss: 2.344061\n",
      "Train Epoch: 0 [51200/60000 (85%)]\tLoss: 2.403563\n",
      "Train Epoch: 0 [51840/60000 (86%)]\tLoss: 2.312183\n",
      "Train Epoch: 0 [52480/60000 (87%)]\tLoss: 2.287836\n",
      "Train Epoch: 0 [53120/60000 (88%)]\tLoss: 2.333920\n",
      "Train Epoch: 0 [53760/60000 (90%)]\tLoss: 2.312499\n",
      "Train Epoch: 0 [54400/60000 (91%)]\tLoss: 2.359949\n",
      "Train Epoch: 0 [55040/60000 (92%)]\tLoss: 2.363973\n",
      "Train Epoch: 0 [55680/60000 (93%)]\tLoss: 2.304453\n",
      "Train Epoch: 0 [56320/60000 (94%)]\tLoss: 2.454728\n",
      "Train Epoch: 0 [56960/60000 (95%)]\tLoss: 2.338699\n",
      "Train Epoch: 0 [57600/60000 (96%)]\tLoss: 2.289698\n",
      "Train Epoch: 0 [58240/60000 (97%)]\tLoss: 2.325969\n",
      "Train Epoch: 0 [58880/60000 (98%)]\tLoss: 2.334784\n",
      "Train Epoch: 0 [59520/60000 (99%)]\tLoss: 2.363783\n",
      "Train Epoch: 1 [0/60000 (0%)]\tLoss: 2.304468\n",
      "Train Epoch: 1 [640/60000 (1%)]\tLoss: 2.237942\n",
      "Train Epoch: 1 [1280/60000 (2%)]\tLoss: 2.379854\n",
      "Train Epoch: 1 [1920/60000 (3%)]\tLoss: 2.321807\n",
      "Train Epoch: 1 [2560/60000 (4%)]\tLoss: 2.326054\n",
      "Train Epoch: 1 [3200/60000 (5%)]\tLoss: 2.366278\n",
      "Train Epoch: 1 [3840/60000 (6%)]\tLoss: 2.262960\n",
      "Train Epoch: 1 [4480/60000 (7%)]\tLoss: 2.338786\n",
      "Train Epoch: 1 [5120/60000 (9%)]\tLoss: 2.378443\n",
      "Train Epoch: 1 [5760/60000 (10%)]\tLoss: 2.333674\n",
      "Train Epoch: 1 [6400/60000 (11%)]\tLoss: 2.328306\n",
      "Train Epoch: 1 [7040/60000 (12%)]\tLoss: 2.338466\n",
      "Train Epoch: 1 [7680/60000 (13%)]\tLoss: 2.356887\n",
      "Train Epoch: 1 [8320/60000 (14%)]\tLoss: 2.377309\n",
      "Train Epoch: 1 [8960/60000 (15%)]\tLoss: 2.312181\n",
      "Train Epoch: 1 [9600/60000 (16%)]\tLoss: 2.397353\n",
      "Train Epoch: 1 [10240/60000 (17%)]\tLoss: 2.364430\n",
      "Train Epoch: 1 [10880/60000 (18%)]\tLoss: 2.379686\n",
      "Train Epoch: 1 [11520/60000 (19%)]\tLoss: 2.351562\n",
      "Train Epoch: 1 [12160/60000 (20%)]\tLoss: 2.350115\n",
      "Train Epoch: 1 [12800/60000 (21%)]\tLoss: 2.244029\n",
      "Train Epoch: 1 [13440/60000 (22%)]\tLoss: 2.360412\n",
      "Train Epoch: 1 [14080/60000 (23%)]\tLoss: 2.315639\n",
      "Train Epoch: 1 [14720/60000 (25%)]\tLoss: 2.389025\n",
      "Train Epoch: 1 [15360/60000 (26%)]\tLoss: 2.397625\n",
      "Train Epoch: 1 [16000/60000 (27%)]\tLoss: 2.324974\n",
      "Train Epoch: 1 [16640/60000 (28%)]\tLoss: 2.326982\n",
      "Train Epoch: 1 [17280/60000 (29%)]\tLoss: 2.397022\n",
      "Train Epoch: 1 [17920/60000 (30%)]\tLoss: 2.341864\n",
      "Train Epoch: 1 [18560/60000 (31%)]\tLoss: 2.316780\n",
      "Train Epoch: 1 [19200/60000 (32%)]\tLoss: 2.290725\n",
      "Train Epoch: 1 [19840/60000 (33%)]\tLoss: 2.302054\n",
      "Train Epoch: 1 [20480/60000 (34%)]\tLoss: 2.341123\n",
      "Train Epoch: 1 [21120/60000 (35%)]\tLoss: 2.367768\n",
      "Train Epoch: 1 [21760/60000 (36%)]\tLoss: 2.341992\n",
      "Train Epoch: 1 [22400/60000 (37%)]\tLoss: 2.338322\n",
      "Train Epoch: 1 [23040/60000 (38%)]\tLoss: 2.355606\n",
      "Train Epoch: 1 [23680/60000 (39%)]\tLoss: 2.284112\n",
      "Train Epoch: 1 [24320/60000 (41%)]\tLoss: 2.374856\n",
      "Train Epoch: 1 [24960/60000 (42%)]\tLoss: 2.331543\n",
      "Train Epoch: 1 [25600/60000 (43%)]\tLoss: 2.321192\n",
      "Train Epoch: 1 [26240/60000 (44%)]\tLoss: 2.265647\n",
      "Train Epoch: 1 [26880/60000 (45%)]\tLoss: 2.298278\n",
      "Train Epoch: 1 [27520/60000 (46%)]\tLoss: 2.317490\n",
      "Train Epoch: 1 [28160/60000 (47%)]\tLoss: 2.272723\n",
      "Train Epoch: 1 [28800/60000 (48%)]\tLoss: 2.400963\n",
      "Train Epoch: 1 [29440/60000 (49%)]\tLoss: 2.507440\n",
      "Train Epoch: 1 [30080/60000 (50%)]\tLoss: 2.393094\n",
      "Train Epoch: 1 [30720/60000 (51%)]\tLoss: 2.419714\n",
      "Train Epoch: 1 [31360/60000 (52%)]\tLoss: 2.351777\n",
      "Train Epoch: 1 [32000/60000 (53%)]\tLoss: 2.419491\n",
      "Train Epoch: 1 [32640/60000 (54%)]\tLoss: 2.429312\n",
      "Train Epoch: 1 [33280/60000 (55%)]\tLoss: 2.297789\n",
      "Train Epoch: 1 [33920/60000 (57%)]\tLoss: 2.351755\n",
      "Train Epoch: 1 [34560/60000 (58%)]\tLoss: 2.342575\n",
      "Train Epoch: 1 [35200/60000 (59%)]\tLoss: 2.359362\n",
      "Train Epoch: 1 [35840/60000 (60%)]\tLoss: 2.323574\n",
      "Train Epoch: 1 [36480/60000 (61%)]\tLoss: 2.405147\n",
      "Train Epoch: 1 [37120/60000 (62%)]\tLoss: 2.372452\n",
      "Train Epoch: 1 [37760/60000 (63%)]\tLoss: 2.360568\n",
      "Train Epoch: 1 [38400/60000 (64%)]\tLoss: 2.419126\n",
      "Train Epoch: 1 [39040/60000 (65%)]\tLoss: 2.283723\n",
      "Train Epoch: 1 [39680/60000 (66%)]\tLoss: 2.336538\n",
      "Train Epoch: 1 [40320/60000 (67%)]\tLoss: 2.346513\n",
      "Train Epoch: 1 [40960/60000 (68%)]\tLoss: 2.304324\n",
      "Train Epoch: 1 [41600/60000 (69%)]\tLoss: 2.341439\n",
      "Train Epoch: 1 [42240/60000 (70%)]\tLoss: 2.361294\n",
      "Train Epoch: 1 [42880/60000 (71%)]\tLoss: 2.406241\n",
      "Train Epoch: 1 [43520/60000 (72%)]\tLoss: 2.300334\n",
      "Train Epoch: 1 [44160/60000 (74%)]\tLoss: 2.309165\n",
      "Train Epoch: 1 [44800/60000 (75%)]\tLoss: 2.361495\n",
      "Train Epoch: 1 [45440/60000 (76%)]\tLoss: 2.443631\n"
     ]
    },
    {
     "name": "stdout",
     "output_type": "stream",
     "text": [
      "Train Epoch: 1 [46080/60000 (77%)]\tLoss: 2.314088\n",
      "Train Epoch: 1 [46720/60000 (78%)]\tLoss: 2.392107\n",
      "Train Epoch: 1 [47360/60000 (79%)]\tLoss: 2.323653\n",
      "Train Epoch: 1 [48000/60000 (80%)]\tLoss: 2.294007\n",
      "Train Epoch: 1 [48640/60000 (81%)]\tLoss: 2.314728\n",
      "Train Epoch: 1 [49280/60000 (82%)]\tLoss: 2.355071\n",
      "Train Epoch: 1 [49920/60000 (83%)]\tLoss: 2.349204\n",
      "Train Epoch: 1 [50560/60000 (84%)]\tLoss: 2.307742\n",
      "Train Epoch: 1 [51200/60000 (85%)]\tLoss: 2.347462\n",
      "Train Epoch: 1 [51840/60000 (86%)]\tLoss: 2.405621\n",
      "Train Epoch: 1 [52480/60000 (87%)]\tLoss: 2.423558\n",
      "Train Epoch: 1 [53120/60000 (88%)]\tLoss: 2.382326\n",
      "Train Epoch: 1 [53760/60000 (90%)]\tLoss: 2.320254\n",
      "Train Epoch: 1 [54400/60000 (91%)]\tLoss: 2.369054\n",
      "Train Epoch: 1 [55040/60000 (92%)]\tLoss: 2.321925\n",
      "Train Epoch: 1 [55680/60000 (93%)]\tLoss: 2.321786\n",
      "Train Epoch: 1 [56320/60000 (94%)]\tLoss: 2.339195\n",
      "Train Epoch: 1 [56960/60000 (95%)]\tLoss: 2.323470\n",
      "Train Epoch: 1 [57600/60000 (96%)]\tLoss: 2.421056\n",
      "Train Epoch: 1 [58240/60000 (97%)]\tLoss: 2.329478\n",
      "Train Epoch: 1 [58880/60000 (98%)]\tLoss: 2.315077\n",
      "Train Epoch: 1 [59520/60000 (99%)]\tLoss: 2.340677\n",
      "Train Epoch: 2 [0/60000 (0%)]\tLoss: 2.308716\n",
      "Train Epoch: 2 [640/60000 (1%)]\tLoss: 2.318739\n",
      "Train Epoch: 2 [1280/60000 (2%)]\tLoss: 2.294240\n",
      "Train Epoch: 2 [1920/60000 (3%)]\tLoss: 2.417459\n",
      "Train Epoch: 2 [2560/60000 (4%)]\tLoss: 2.342914\n",
      "Train Epoch: 2 [3200/60000 (5%)]\tLoss: 2.373566\n",
      "Train Epoch: 2 [3840/60000 (6%)]\tLoss: 2.307191\n",
      "Train Epoch: 2 [4480/60000 (7%)]\tLoss: 2.340860\n",
      "Train Epoch: 2 [5120/60000 (9%)]\tLoss: 2.305294\n",
      "Train Epoch: 2 [5760/60000 (10%)]\tLoss: 2.383138\n",
      "Train Epoch: 2 [6400/60000 (11%)]\tLoss: 2.337879\n",
      "Train Epoch: 2 [7040/60000 (12%)]\tLoss: 2.336192\n",
      "Train Epoch: 2 [7680/60000 (13%)]\tLoss: 2.339699\n",
      "Train Epoch: 2 [8320/60000 (14%)]\tLoss: 2.323756\n",
      "Train Epoch: 2 [8960/60000 (15%)]\tLoss: 2.305490\n",
      "Train Epoch: 2 [9600/60000 (16%)]\tLoss: 2.325570\n",
      "Train Epoch: 2 [10240/60000 (17%)]\tLoss: 2.288280\n",
      "Train Epoch: 2 [10880/60000 (18%)]\tLoss: 2.306230\n",
      "Train Epoch: 2 [11520/60000 (19%)]\tLoss: 2.342124\n",
      "Train Epoch: 2 [12160/60000 (20%)]\tLoss: 2.346761\n",
      "Train Epoch: 2 [12800/60000 (21%)]\tLoss: 2.428949\n",
      "Train Epoch: 2 [13440/60000 (22%)]\tLoss: 2.404235\n",
      "Train Epoch: 2 [14080/60000 (23%)]\tLoss: 2.278017\n",
      "Train Epoch: 2 [14720/60000 (25%)]\tLoss: 2.326802\n",
      "Train Epoch: 2 [15360/60000 (26%)]\tLoss: 2.358422\n",
      "Train Epoch: 2 [16000/60000 (27%)]\tLoss: 2.343786\n",
      "Train Epoch: 2 [16640/60000 (28%)]\tLoss: 2.293986\n",
      "Train Epoch: 2 [17280/60000 (29%)]\tLoss: 2.336337\n",
      "Train Epoch: 2 [17920/60000 (30%)]\tLoss: 2.321667\n",
      "Train Epoch: 2 [18560/60000 (31%)]\tLoss: 2.371925\n",
      "Train Epoch: 2 [19200/60000 (32%)]\tLoss: 2.374017\n",
      "Train Epoch: 2 [19840/60000 (33%)]\tLoss: 2.320786\n",
      "Train Epoch: 2 [20480/60000 (34%)]\tLoss: 2.342391\n",
      "Train Epoch: 2 [21120/60000 (35%)]\tLoss: 2.308513\n",
      "Train Epoch: 2 [21760/60000 (36%)]\tLoss: 2.271694\n",
      "Train Epoch: 2 [22400/60000 (37%)]\tLoss: 2.332782\n",
      "Train Epoch: 2 [23040/60000 (38%)]\tLoss: 2.360431\n",
      "Train Epoch: 2 [23680/60000 (39%)]\tLoss: 2.289818\n",
      "Train Epoch: 2 [24320/60000 (41%)]\tLoss: 2.305624\n",
      "Train Epoch: 2 [24960/60000 (42%)]\tLoss: 2.311587\n",
      "Train Epoch: 2 [25600/60000 (43%)]\tLoss: 2.331149\n",
      "Train Epoch: 2 [26240/60000 (44%)]\tLoss: 2.313762\n",
      "Train Epoch: 2 [26880/60000 (45%)]\tLoss: 2.349113\n",
      "Train Epoch: 2 [27520/60000 (46%)]\tLoss: 2.355408\n",
      "Train Epoch: 2 [28160/60000 (47%)]\tLoss: 2.304258\n",
      "Train Epoch: 2 [28800/60000 (48%)]\tLoss: 2.377938\n",
      "Train Epoch: 2 [29440/60000 (49%)]\tLoss: 2.321165\n",
      "Train Epoch: 2 [30080/60000 (50%)]\tLoss: 2.364525\n",
      "Train Epoch: 2 [30720/60000 (51%)]\tLoss: 2.406883\n",
      "Train Epoch: 2 [31360/60000 (52%)]\tLoss: 2.400862\n",
      "Train Epoch: 2 [32000/60000 (53%)]\tLoss: 2.334538\n",
      "Train Epoch: 2 [32640/60000 (54%)]\tLoss: 2.282245\n",
      "Train Epoch: 2 [33280/60000 (55%)]\tLoss: 2.300971\n",
      "Train Epoch: 2 [33920/60000 (57%)]\tLoss: 2.308848\n",
      "Train Epoch: 2 [34560/60000 (58%)]\tLoss: 2.333123\n",
      "Train Epoch: 2 [35200/60000 (59%)]\tLoss: 2.333816\n",
      "Train Epoch: 2 [35840/60000 (60%)]\tLoss: 2.313128\n",
      "Train Epoch: 2 [36480/60000 (61%)]\tLoss: 2.320728\n",
      "Train Epoch: 2 [37120/60000 (62%)]\tLoss: 2.311455\n",
      "Train Epoch: 2 [37760/60000 (63%)]\tLoss: 2.312425\n",
      "Train Epoch: 2 [38400/60000 (64%)]\tLoss: 2.301049\n",
      "Train Epoch: 2 [39040/60000 (65%)]\tLoss: 2.287769\n",
      "Train Epoch: 2 [39680/60000 (66%)]\tLoss: 2.368213\n",
      "Train Epoch: 2 [40320/60000 (67%)]\tLoss: 2.329561\n",
      "Train Epoch: 2 [40960/60000 (68%)]\tLoss: 2.296645\n",
      "Train Epoch: 2 [41600/60000 (69%)]\tLoss: 2.339840\n",
      "Train Epoch: 2 [42240/60000 (70%)]\tLoss: 2.400887\n",
      "Train Epoch: 2 [42880/60000 (71%)]\tLoss: 2.366787\n",
      "Train Epoch: 2 [43520/60000 (72%)]\tLoss: 2.371027\n",
      "Train Epoch: 2 [44160/60000 (74%)]\tLoss: 2.338437\n",
      "Train Epoch: 2 [44800/60000 (75%)]\tLoss: 2.389745\n",
      "Train Epoch: 2 [45440/60000 (76%)]\tLoss: 2.362866\n",
      "Train Epoch: 2 [46080/60000 (77%)]\tLoss: 2.440138\n",
      "Train Epoch: 2 [46720/60000 (78%)]\tLoss: 2.340149\n",
      "Train Epoch: 2 [47360/60000 (79%)]\tLoss: 2.426742\n",
      "Train Epoch: 2 [48000/60000 (80%)]\tLoss: 2.357159\n",
      "Train Epoch: 2 [48640/60000 (81%)]\tLoss: 2.400013\n",
      "Train Epoch: 2 [49280/60000 (82%)]\tLoss: 2.337224\n",
      "Train Epoch: 2 [49920/60000 (83%)]\tLoss: 2.369920\n",
      "Train Epoch: 2 [50560/60000 (84%)]\tLoss: 2.327389\n",
      "Train Epoch: 2 [51200/60000 (85%)]\tLoss: 2.318965\n",
      "Train Epoch: 2 [51840/60000 (86%)]\tLoss: 2.357245\n",
      "Train Epoch: 2 [52480/60000 (87%)]\tLoss: 2.421128\n",
      "Train Epoch: 2 [53120/60000 (88%)]\tLoss: 2.365572\n",
      "Train Epoch: 2 [53760/60000 (90%)]\tLoss: 2.359708\n",
      "Train Epoch: 2 [54400/60000 (91%)]\tLoss: 2.317222\n",
      "Train Epoch: 2 [55040/60000 (92%)]\tLoss: 2.371051\n",
      "Train Epoch: 2 [55680/60000 (93%)]\tLoss: 2.360173\n",
      "Train Epoch: 2 [56320/60000 (94%)]\tLoss: 2.345640\n",
      "Train Epoch: 2 [56960/60000 (95%)]\tLoss: 2.355781\n",
      "Train Epoch: 2 [57600/60000 (96%)]\tLoss: 2.335961\n",
      "Train Epoch: 2 [58240/60000 (97%)]\tLoss: 2.336265\n",
      "Train Epoch: 2 [58880/60000 (98%)]\tLoss: 2.383019\n",
      "Train Epoch: 2 [59520/60000 (99%)]\tLoss: 2.294914\n",
      "Train Epoch: 3 [0/60000 (0%)]\tLoss: 2.302218\n",
      "Train Epoch: 3 [640/60000 (1%)]\tLoss: 2.321162\n",
      "Train Epoch: 3 [1280/60000 (2%)]\tLoss: 2.301874\n",
      "Train Epoch: 3 [1920/60000 (3%)]\tLoss: 2.406926\n",
      "Train Epoch: 3 [2560/60000 (4%)]\tLoss: 2.365343\n",
      "Train Epoch: 3 [3200/60000 (5%)]\tLoss: 2.323746\n",
      "Train Epoch: 3 [3840/60000 (6%)]\tLoss: 2.344622\n",
      "Train Epoch: 3 [4480/60000 (7%)]\tLoss: 2.351114\n",
      "Train Epoch: 3 [5120/60000 (9%)]\tLoss: 2.407657\n",
      "Train Epoch: 3 [5760/60000 (10%)]\tLoss: 2.418502\n",
      "Train Epoch: 3 [6400/60000 (11%)]\tLoss: 2.337087\n",
      "Train Epoch: 3 [7040/60000 (12%)]\tLoss: 2.303796\n",
      "Train Epoch: 3 [7680/60000 (13%)]\tLoss: 2.401513\n",
      "Train Epoch: 3 [8320/60000 (14%)]\tLoss: 2.337463\n",
      "Train Epoch: 3 [8960/60000 (15%)]\tLoss: 2.324577\n",
      "Train Epoch: 3 [9600/60000 (16%)]\tLoss: 2.335718\n",
      "Train Epoch: 3 [10240/60000 (17%)]\tLoss: 2.384667\n",
      "Train Epoch: 3 [10880/60000 (18%)]\tLoss: 2.267396\n",
      "Train Epoch: 3 [11520/60000 (19%)]\tLoss: 2.306527\n",
      "Train Epoch: 3 [12160/60000 (20%)]\tLoss: 2.367751\n",
      "Train Epoch: 3 [12800/60000 (21%)]\tLoss: 2.309073\n",
      "Train Epoch: 3 [13440/60000 (22%)]\tLoss: 2.315047\n",
      "Train Epoch: 3 [14080/60000 (23%)]\tLoss: 2.347873\n",
      "Train Epoch: 3 [14720/60000 (25%)]\tLoss: 2.268999\n",
      "Train Epoch: 3 [15360/60000 (26%)]\tLoss: 2.333838\n",
      "Train Epoch: 3 [16000/60000 (27%)]\tLoss: 2.349008\n",
      "Train Epoch: 3 [16640/60000 (28%)]\tLoss: 2.375700\n",
      "Train Epoch: 3 [17280/60000 (29%)]\tLoss: 2.331388\n",
      "Train Epoch: 3 [17920/60000 (30%)]\tLoss: 2.335067\n",
      "Train Epoch: 3 [18560/60000 (31%)]\tLoss: 2.332542\n",
      "Train Epoch: 3 [19200/60000 (32%)]\tLoss: 2.345043\n",
      "Train Epoch: 3 [19840/60000 (33%)]\tLoss: 2.300745\n",
      "Train Epoch: 3 [20480/60000 (34%)]\tLoss: 2.416367\n",
      "Train Epoch: 3 [21120/60000 (35%)]\tLoss: 2.282617\n",
      "Train Epoch: 3 [21760/60000 (36%)]\tLoss: 2.317955\n",
      "Train Epoch: 3 [22400/60000 (37%)]\tLoss: 2.329546\n",
      "Train Epoch: 3 [23040/60000 (38%)]\tLoss: 2.333439\n",
      "Train Epoch: 3 [23680/60000 (39%)]\tLoss: 2.432110\n",
      "Train Epoch: 3 [24320/60000 (41%)]\tLoss: 2.389215\n",
      "Train Epoch: 3 [24960/60000 (42%)]\tLoss: 2.317299\n",
      "Train Epoch: 3 [25600/60000 (43%)]\tLoss: 2.398170\n",
      "Train Epoch: 3 [26240/60000 (44%)]\tLoss: 2.354642\n",
      "Train Epoch: 3 [26880/60000 (45%)]\tLoss: 2.310941\n",
      "Train Epoch: 3 [27520/60000 (46%)]\tLoss: 2.352980\n",
      "Train Epoch: 3 [28160/60000 (47%)]\tLoss: 2.370045\n",
      "Train Epoch: 3 [28800/60000 (48%)]\tLoss: 2.332853\n",
      "Train Epoch: 3 [29440/60000 (49%)]\tLoss: 2.328536\n",
      "Train Epoch: 3 [30080/60000 (50%)]\tLoss: 2.410731\n",
      "Train Epoch: 3 [30720/60000 (51%)]\tLoss: 2.315743\n",
      "Train Epoch: 3 [31360/60000 (52%)]\tLoss: 2.362804\n"
     ]
    },
    {
     "name": "stdout",
     "output_type": "stream",
     "text": [
      "Train Epoch: 3 [32000/60000 (53%)]\tLoss: 2.268909\n",
      "Train Epoch: 3 [32640/60000 (54%)]\tLoss: 2.324456\n",
      "Train Epoch: 3 [33280/60000 (55%)]\tLoss: 2.313516\n",
      "Train Epoch: 3 [33920/60000 (57%)]\tLoss: 2.345426\n",
      "Train Epoch: 3 [34560/60000 (58%)]\tLoss: 2.328141\n",
      "Train Epoch: 3 [35200/60000 (59%)]\tLoss: 2.392569\n",
      "Train Epoch: 3 [35840/60000 (60%)]\tLoss: 2.333704\n",
      "Train Epoch: 3 [36480/60000 (61%)]\tLoss: 2.352234\n",
      "Train Epoch: 3 [37120/60000 (62%)]\tLoss: 2.323742\n",
      "Train Epoch: 3 [37760/60000 (63%)]\tLoss: 2.318627\n",
      "Train Epoch: 3 [38400/60000 (64%)]\tLoss: 2.340932\n",
      "Train Epoch: 3 [39040/60000 (65%)]\tLoss: 2.401247\n",
      "Train Epoch: 3 [39680/60000 (66%)]\tLoss: 2.390721\n",
      "Train Epoch: 3 [40320/60000 (67%)]\tLoss: 2.372447\n",
      "Train Epoch: 3 [40960/60000 (68%)]\tLoss: 2.381556\n",
      "Train Epoch: 3 [41600/60000 (69%)]\tLoss: 2.370942\n",
      "Train Epoch: 3 [42240/60000 (70%)]\tLoss: 2.382010\n",
      "Train Epoch: 3 [42880/60000 (71%)]\tLoss: 2.337266\n",
      "Train Epoch: 3 [43520/60000 (72%)]\tLoss: 2.327033\n",
      "Train Epoch: 3 [44160/60000 (74%)]\tLoss: 2.379825\n",
      "Train Epoch: 3 [44800/60000 (75%)]\tLoss: 2.323223\n",
      "Train Epoch: 3 [45440/60000 (76%)]\tLoss: 2.283228\n",
      "Train Epoch: 3 [46080/60000 (77%)]\tLoss: 2.334064\n",
      "Train Epoch: 3 [46720/60000 (78%)]\tLoss: 2.381998\n",
      "Train Epoch: 3 [47360/60000 (79%)]\tLoss: 2.324826\n",
      "Train Epoch: 3 [48000/60000 (80%)]\tLoss: 2.344363\n",
      "Train Epoch: 3 [48640/60000 (81%)]\tLoss: 2.407687\n",
      "Train Epoch: 3 [49280/60000 (82%)]\tLoss: 2.405679\n",
      "Train Epoch: 3 [49920/60000 (83%)]\tLoss: 2.347231\n",
      "Train Epoch: 3 [50560/60000 (84%)]\tLoss: 2.381284\n",
      "Train Epoch: 3 [51200/60000 (85%)]\tLoss: 2.320855\n",
      "Train Epoch: 3 [51840/60000 (86%)]\tLoss: 2.332896\n",
      "Train Epoch: 3 [52480/60000 (87%)]\tLoss: 2.331153\n",
      "Train Epoch: 3 [53120/60000 (88%)]\tLoss: 2.318925\n",
      "Train Epoch: 3 [53760/60000 (90%)]\tLoss: 2.324926\n",
      "Train Epoch: 3 [54400/60000 (91%)]\tLoss: 2.312320\n",
      "Train Epoch: 3 [55040/60000 (92%)]\tLoss: 2.316199\n",
      "Train Epoch: 3 [55680/60000 (93%)]\tLoss: 2.314889\n",
      "Train Epoch: 3 [56320/60000 (94%)]\tLoss: 2.341814\n",
      "Train Epoch: 3 [56960/60000 (95%)]\tLoss: 2.343977\n",
      "Train Epoch: 3 [57600/60000 (96%)]\tLoss: 2.324932\n",
      "Train Epoch: 3 [58240/60000 (97%)]\tLoss: 2.346128\n",
      "Train Epoch: 3 [58880/60000 (98%)]\tLoss: 2.328274\n",
      "Train Epoch: 3 [59520/60000 (99%)]\tLoss: 2.302693\n"
     ]
    }
   ],
   "source": [
    "model = create_net(tornasole_save_interval=100, base_loc='./ts_output', run_id='bad')\n",
    "train(model=model, epochs=4, learning_rate=1.0, momentum=0.9, batch_size=64, device=torch.device(\"cpu\"))"
   ]
  },
  {
   "cell_type": "code",
   "execution_count": 21,
   "metadata": {},
   "outputs": [],
   "source": [
    "bad_trial = LocalTrial( 'myrun', './ts_output/bad/')"
   ]
  },
  {
   "cell_type": "markdown",
   "metadata": {},
   "source": [
    "We can plot the gradients - notice how every single one of them (apart from one) goes to zero and stays there!"
   ]
  },
  {
   "cell_type": "code",
   "execution_count": 22,
   "metadata": {},
   "outputs": [
    {
     "data": {
      "image/png": "[encoded data removed]",
      "text/plain": [
       "<Figure size 432x288 with 1 Axes>"
      ]
     },
     "metadata": {
      "needs_background": "light"
     },
     "output_type": "display_data"
    }
   ],
   "source": [
    "plot_gradients(bad_trial)"
   ]
  },
  {
   "cell_type": "markdown",
   "metadata": {},
   "source": [
    "The `VanishingGradient` rule provided by Tornasole alerts for this automatically."
   ]
  },
  {
   "cell_type": "code",
   "execution_count": 23,
   "metadata": {},
   "outputs": [
    {
     "data": {
      "image/png": "[encoded data removed]",
      "text/plain": [
       "<Figure size 432x288 with 1 Axes>"
      ]
     },
     "metadata": {
      "needs_background": "light"
     },
     "output_type": "display_data"
    }
   ],
   "source": [
    "input_image = (bad_trial.tensor('Net_input_0').value(2700)[42]*255).reshape(28,28)\n",
    "plt.imshow(input_image, cmap=plt.get_cmap('gray'))\n",
    "plt.show()"
   ]
  },
  {
   "cell_type": "code",
   "execution_count": 24,
   "metadata": {},
   "outputs": [
    {
     "data": {
      "image/png": "[encoded data removed]",
      "text/plain": [
       "<Figure size 432x288 with 1 Axes>"
      ]
     },
     "metadata": {
      "needs_background": "light"
     },
     "output_type": "display_data"
    },
    {
     "name": "stdout",
     "output_type": "stream",
     "text": [
      "The network predicted the value: 1\n"
     ]
    }
   ],
   "source": [
    "plt.plot(bad_trial.tensor('Net_output0').value(2700)[42], 'bo')\n",
    "plt.show()\n",
    "print('The network predicted the value: {}'.format(np.argmax(bad_trial.tensor('Net_output0').value(2700)[42])))"
   ]
  },
  {
   "cell_type": "markdown",
   "metadata": {},
   "source": [
    "This concludes this notebook. For more information see the APIs at\n",
    "- https://github.com/awslabs/tornasole_core"
   ]
  },
  {
   "cell_type": "code",
   "execution_count": null,
   "metadata": {},
   "outputs": [],
   "source": []
  }
 ],
 "metadata": {
  "kernelspec": {
   "display_name": "Python 3",
   "language": "python",
   "name": "python3"
  },
  "language_info": {
   "codemirror_mode": {
    "name": "ipython",
    "version": 3
   },
   "file_extension": ".py",
   "mimetype": "text/x-python",
   "name": "python",
   "nbconvert_exporter": "python",
   "pygments_lexer": "ipython3",
   "version": "3.7.3"
  },
  "pycharm": {
   "stem_cell": {
    "cell_type": "raw",
    "source": [],
    "metadata": {
     "collapsed": false
    }
   }
  }
 },
 "nbformat": 4,
 "nbformat_minor": 2
}
